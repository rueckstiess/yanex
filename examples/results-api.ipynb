{
 "cells": [
  {
   "cell_type": "markdown",
   "metadata": {},
   "source": [
    "# Yanex Results API Demo\n",
    "\n",
    "This notebook demonstrates the Yanex Results API using a physics simulation theme - projectile motion analysis.\n",
    "\n",
    "We'll run experiments with different launch angles and velocities, then use the Results API to analyze and compare the results."
   ]
  },
  {
   "cell_type": "markdown",
   "metadata": {},
   "source": [
    "## Setup and Run Experiments\n",
    "\n",
    "First, let's create some toy experiments simulating projectile motion with different parameters."
   ]
  },
  {
   "cell_type": "code",
   "execution_count": 30,
   "metadata": {},
   "outputs": [
    {
     "name": "stdout",
     "output_type": "stream",
     "text": [
      "Completed experiment 25fc749d: angle=30°, velocity=20m/s\n",
      "✓ Experiment completed successfully: 25fc749d\n",
      "  Directory: /Users/thomas/.yanex/experiments/25fc749d\n",
      "Completed experiment 51d3aaba: angle=45°, velocity=20m/s\n",
      "✓ Experiment completed successfully: 51d3aaba\n",
      "  Directory: /Users/thomas/.yanex/experiments/51d3aaba\n",
      "Completed experiment fcdc417a: angle=60°, velocity=20m/s\n",
      "✓ Experiment completed successfully: fcdc417a\n",
      "  Directory: /Users/thomas/.yanex/experiments/fcdc417a\n",
      "Completed experiment cd31d506: angle=45°, velocity=15m/s\n",
      "✓ Experiment completed successfully: cd31d506\n",
      "  Directory: /Users/thomas/.yanex/experiments/cd31d506\n",
      "Completed experiment 407482f1: angle=45°, velocity=25m/s\n",
      "✓ Experiment completed successfully: 407482f1\n",
      "  Directory: /Users/thomas/.yanex/experiments/407482f1\n",
      "\n",
      "Ran 5 experiments\n"
     ]
    }
   ],
   "source": [
    "import math\n",
    "import os\n",
    "import time\n",
    "from pathlib import Path\n",
    "\n",
    "import yanex\n",
    "\n",
    "\n",
    "def simulate_projectile(angle, velocity):\n",
    "    \"\"\"Simulate projectile motion and return key metrics.\"\"\"\n",
    "    # Convert angle to radians\n",
    "    angle_rad = math.radians(angle)\n",
    "    g = 9.81  # gravity\n",
    "\n",
    "    # Calculate trajectory metrics\n",
    "    time_of_flight = 2 * velocity * math.sin(angle_rad) / g\n",
    "    max_range = velocity**2 * math.sin(2 * angle_rad) / g\n",
    "    max_height = (velocity * math.sin(angle_rad)) ** 2 / (2 * g)\n",
    "\n",
    "    return {\n",
    "        \"max_range\": max_range,\n",
    "        \"max_height\": max_height,\n",
    "        \"time_of_flight\": time_of_flight,\n",
    "    }\n",
    "\n",
    "\n",
    "# Run experiments with different parameters\n",
    "experiment_configs = [\n",
    "    {\"angle\": 30, \"velocity\": 20},\n",
    "    {\"angle\": 45, \"velocity\": 20},\n",
    "    {\"angle\": 60, \"velocity\": 20},\n",
    "    {\"angle\": 45, \"velocity\": 15},\n",
    "    {\"angle\": 45, \"velocity\": 25},\n",
    "]\n",
    "\n",
    "experiment_ids = []\n",
    "\n",
    "for config in experiment_configs:\n",
    "    with yanex.create_experiment(\n",
    "        script_path=Path(os.path.abspath(\"\")),\n",
    "        config=config,\n",
    "        name=f\"projectile_angle_{config['angle']}_vel_{config['velocity']}\",\n",
    "        tags=[\"projectile\", \"simulation\", \"results-api-demo\"],\n",
    "        allow_dirty=True,\n",
    "    ) as exp:\n",
    "        # Simulate the experiment with some steps\n",
    "        results = simulate_projectile(config[\"angle\"], config[\"velocity\"])\n",
    "        time.sleep(0.1)  # Simulate some work\n",
    "\n",
    "        # Log results\n",
    "        yanex.log_metrics(results)\n",
    "\n",
    "        experiment_ids.append(exp.experiment_id)\n",
    "        print(\n",
    "            f\"Completed experiment {exp.experiment_id}: angle={config['angle']}°, velocity={config['velocity']}m/s\"\n",
    "        )\n",
    "\n",
    "print(f\"\\nRan {len(experiment_ids)} experiments\")"
   ]
  },
  {
   "cell_type": "markdown",
   "metadata": {},
   "source": [
    "## Results API: Import and Basic Usage\n",
    "\n",
    "Now let's import the Results API and explore our experimental data."
   ]
  },
  {
   "cell_type": "code",
   "execution_count": 31,
   "metadata": {},
   "outputs": [],
   "source": [
    "import yanex.results as yr"
   ]
  },
  {
   "cell_type": "markdown",
   "metadata": {},
   "source": [
    "## Finding experiments with `get_experiments()`\n",
    "\n",
    "The `get_experiments()` method is the most flexible way to search for experiments. It returns experiment objects that match your criteria."
   ]
  },
  {
   "cell_type": "code",
   "execution_count": 32,
   "metadata": {},
   "outputs": [
    {
     "name": "stdout",
     "output_type": "stream",
     "text": [
      "Total experiments found: 85\n",
      "\n",
      "Experiments with 45° angle: 3\n",
      " - 407482f1: projectile_angle_45_vel_25 (ran for 0:00:00.106593 seconds)\n",
      " - cd31d506: projectile_angle_45_vel_15 (ran for 0:00:00.105823 seconds)\n",
      " - 51d3aaba: projectile_angle_45_vel_20 (ran for 0:00:00.102742 seconds)\n"
     ]
    }
   ],
   "source": [
    "# Find all experiments\n",
    "all_experiments = yr.get_experiments()\n",
    "print(f\"Total experiments found: {len(all_experiments)}\")\n",
    "\n",
    "# Find experiments by name pattern\n",
    "projectile_experiments = yr.get_experiments(name=\"*angle_45*\")\n",
    "print(f\"\\nExperiments with 45° angle: {len(projectile_experiments)}\")\n",
    "for exp in projectile_experiments:\n",
    "    print(f\" - {exp.id}: {exp.name} (ran for {exp.duration} seconds)\")"
   ]
  },
  {
   "cell_type": "markdown",
   "metadata": {},
   "source": [
    "## Experiment Object\n",
    "\n",
    "The `Experiment` object provides methods to access metrics, parameters, and other details of the experiment."
   ]
  },
  {
   "cell_type": "code",
   "execution_count": null,
   "metadata": {},
   "outputs": [
    {
     "name": "stdout",
     "output_type": "stream",
     "text": [
      "\n",
      "Experiment 407482f1 details:\n",
      "Name: projectile_angle_45_vel_25\n",
      "Description: None\n",
      "Status: completed\n",
      "Tags: ['projectile', 'results-api-demo', 'simulation']\n",
      "Started At: 2025-08-19 07:55:39.136445+00:00\n",
      "Completed At: 2025-08-19 07:55:39.243038+00:00\n",
      "Duration: 0:00:00.106593\n",
      "Script Path: /Users/thomas/code/yanex/examples\n",
      "Archived: False\n",
      "Experiment Directory: /Users/thomas/.yanex/experiments/407482f1\n",
      "\n",
      "----------\n",
      "\n",
      "Experiment Parameters\n",
      "  angle: 45\n",
      "  velocity: 25\n",
      "Experiment Metrics\n",
      "[{'max_range': 63.710499490316, 'max_height': 15.927624872578994, 'time_of_flight': 3.6040100977907614, 'step': 0, 'timestamp': '2025-08-19T07:55:39.241849'}]\n",
      "max range 63.710499490316\n"
     ]
    }
   ],
   "source": [
    "exp = all_experiments[0]\n",
    "print(f\"\\nExperiment {exp.id} details:\")\n",
    "print(f\"Name: {exp.name}\")\n",
    "print(f\"Description: {exp.description}\")\n",
    "print(f\"Status: {exp.status}\")\n",
    "print(f\"Tags: {exp.tags}\")\n",
    "print(f\"Started At: {exp.started_at}\")\n",
    "print(f\"Completed At: {exp.completed_at}\")\n",
    "print(f\"Duration: {exp.duration}\")\n",
    "print(f\"Script Path: {exp.script_path}\")\n",
    "print(f\"Archived: {exp.archived}\")\n",
    "print(f\"Experiment Directory: {exp.experiment_dir}\")\n",
    "\n",
    "print(\"\\n----------\\n\")\n",
    "\n",
    "print(\"Experiment Parameters\")\n",
    "for key, value in exp.get_params().items():\n",
    "    print(f\"  {key}: {value}\")\n",
    "\n",
    "print(\"\\nExperiment Metrics\")\n",
    "print(exp.get_metrics())\n",
    "print(\"max range\", exp.get_metric(\"max_range\"))"
   ]
  },
  {
   "cell_type": "markdown",
   "metadata": {},
   "source": [
    "## Using compare() Method - DataFrame Creation\n",
    "\n",
    "The `compare()` method is powerful for analysis - it creates a pandas DataFrame with all experiment data for easy comparison and visualization.\n",
    "\n",
    "The DataFrame contains metadata, parameters, and metrics for each experiment, allowing for in-depth analysis and visualization. Note that the DataFrame is structured with a multi-level column index, making it easy to access specific parameters and metrics.\n",
    "\n",
    "For example, to access the metric \"max_range\" column of all experiments, you can use:\n",
    "```python\n",
    "max_range = comparison_df[(\"metric\", \"max_range\")]\n",
    "```\n"
   ]
  },
  {
   "cell_type": "code",
   "execution_count": 4,
   "metadata": {},
   "outputs": [
    {
     "name": "stdout",
     "output_type": "stream",
     "text": [
      "Experiment Comparison DataFrame:\n"
     ]
    },
    {
     "data": {
      "text/html": [
       "<div>\n",
       "<style scoped>\n",
       "    .dataframe tbody tr th:only-of-type {\n",
       "        vertical-align: middle;\n",
       "    }\n",
       "\n",
       "    .dataframe tbody tr th {\n",
       "        vertical-align: top;\n",
       "    }\n",
       "\n",
       "    .dataframe thead tr th {\n",
       "        text-align: left;\n",
       "    }\n",
       "\n",
       "    .dataframe thead tr:last-of-type th {\n",
       "        text-align: right;\n",
       "    }\n",
       "</style>\n",
       "<table border=\"1\" class=\"dataframe\">\n",
       "  <thead>\n",
       "    <tr>\n",
       "      <th>category</th>\n",
       "      <th colspan=\"5\" halign=\"left\">meta</th>\n",
       "      <th colspan=\"2\" halign=\"left\">param</th>\n",
       "      <th colspan=\"5\" halign=\"left\">metric</th>\n",
       "    </tr>\n",
       "    <tr>\n",
       "      <th>name</th>\n",
       "      <th>name</th>\n",
       "      <th>started</th>\n",
       "      <th>duration</th>\n",
       "      <th>status</th>\n",
       "      <th>tags</th>\n",
       "      <th>angle</th>\n",
       "      <th>velocity</th>\n",
       "      <th>max_height</th>\n",
       "      <th>max_range</th>\n",
       "      <th>step</th>\n",
       "      <th>time_of_flight</th>\n",
       "      <th>timestamp</th>\n",
       "    </tr>\n",
       "    <tr>\n",
       "      <th>experiment_id</th>\n",
       "      <th></th>\n",
       "      <th></th>\n",
       "      <th></th>\n",
       "      <th></th>\n",
       "      <th></th>\n",
       "      <th></th>\n",
       "      <th></th>\n",
       "      <th></th>\n",
       "      <th></th>\n",
       "      <th></th>\n",
       "      <th></th>\n",
       "      <th></th>\n",
       "    </tr>\n",
       "  </thead>\n",
       "  <tbody>\n",
       "    <tr>\n",
       "      <th>3b29d724</th>\n",
       "      <td>projectile_angle_45_vel_25</td>\n",
       "      <td>2025-08-18 09:18:07</td>\n",
       "      <td>0 days</td>\n",
       "      <td>completed</td>\n",
       "      <td>projectile, simulation, results-api-demo</td>\n",
       "      <td>45</td>\n",
       "      <td>25</td>\n",
       "      <td>15.9276</td>\n",
       "      <td>63.7105</td>\n",
       "      <td>0</td>\n",
       "      <td>3.6040</td>\n",
       "      <td>2025-08-18T09:18:07.861820</td>\n",
       "    </tr>\n",
       "    <tr>\n",
       "      <th>3dc1173c</th>\n",
       "      <td>projectile_angle_45_vel_15</td>\n",
       "      <td>2025-08-18 09:18:07</td>\n",
       "      <td>0 days</td>\n",
       "      <td>completed</td>\n",
       "      <td>projectile, simulation, results-api-demo</td>\n",
       "      <td>45</td>\n",
       "      <td>15</td>\n",
       "      <td>5.7339</td>\n",
       "      <td>22.9358</td>\n",
       "      <td>0</td>\n",
       "      <td>2.1624</td>\n",
       "      <td>2025-08-18T09:18:07.679245</td>\n",
       "    </tr>\n",
       "    <tr>\n",
       "      <th>37fe313d</th>\n",
       "      <td>projectile_angle_60_vel_20</td>\n",
       "      <td>2025-08-18 09:18:07</td>\n",
       "      <td>0 days</td>\n",
       "      <td>completed</td>\n",
       "      <td>projectile, simulation, results-api-demo</td>\n",
       "      <td>60</td>\n",
       "      <td>20</td>\n",
       "      <td>15.2905</td>\n",
       "      <td>35.3119</td>\n",
       "      <td>0</td>\n",
       "      <td>3.5312</td>\n",
       "      <td>2025-08-18T09:18:07.503464</td>\n",
       "    </tr>\n",
       "    <tr>\n",
       "      <th>d2d4e703</th>\n",
       "      <td>projectile_angle_45_vel_20</td>\n",
       "      <td>2025-08-18 09:18:07</td>\n",
       "      <td>0 days</td>\n",
       "      <td>completed</td>\n",
       "      <td>projectile, simulation, results-api-demo</td>\n",
       "      <td>45</td>\n",
       "      <td>20</td>\n",
       "      <td>10.1937</td>\n",
       "      <td>40.7747</td>\n",
       "      <td>0</td>\n",
       "      <td>2.8832</td>\n",
       "      <td>2025-08-18T09:18:07.328465</td>\n",
       "    </tr>\n",
       "    <tr>\n",
       "      <th>7116d959</th>\n",
       "      <td>projectile_angle_30_vel_20</td>\n",
       "      <td>2025-08-18 09:18:07</td>\n",
       "      <td>0 days</td>\n",
       "      <td>completed</td>\n",
       "      <td>projectile, simulation, results-api-demo</td>\n",
       "      <td>30</td>\n",
       "      <td>20</td>\n",
       "      <td>5.0968</td>\n",
       "      <td>35.3119</td>\n",
       "      <td>0</td>\n",
       "      <td>2.0387</td>\n",
       "      <td>2025-08-18T09:18:07.145164</td>\n",
       "    </tr>\n",
       "  </tbody>\n",
       "</table>\n",
       "</div>"
      ],
      "text/plain": [
       "category                             meta                               \\\n",
       "name                                 name             started duration   \n",
       "experiment_id                                                            \n",
       "3b29d724       projectile_angle_45_vel_25 2025-08-18 09:18:07   0 days   \n",
       "3dc1173c       projectile_angle_45_vel_15 2025-08-18 09:18:07   0 days   \n",
       "37fe313d       projectile_angle_60_vel_20 2025-08-18 09:18:07   0 days   \n",
       "d2d4e703       projectile_angle_45_vel_20 2025-08-18 09:18:07   0 days   \n",
       "7116d959       projectile_angle_30_vel_20 2025-08-18 09:18:07   0 days   \n",
       "\n",
       "category                                                           param  \\\n",
       "name              status                                      tags angle   \n",
       "experiment_id                                                              \n",
       "3b29d724       completed  projectile, simulation, results-api-demo    45   \n",
       "3dc1173c       completed  projectile, simulation, results-api-demo    45   \n",
       "37fe313d       completed  projectile, simulation, results-api-demo    60   \n",
       "d2d4e703       completed  projectile, simulation, results-api-demo    45   \n",
       "7116d959       completed  projectile, simulation, results-api-demo    30   \n",
       "\n",
       "category                   metric                                \\\n",
       "name          velocity max_height max_range step time_of_flight   \n",
       "experiment_id                                                     \n",
       "3b29d724            25    15.9276   63.7105    0         3.6040   \n",
       "3dc1173c            15     5.7339   22.9358    0         2.1624   \n",
       "37fe313d            20    15.2905   35.3119    0         3.5312   \n",
       "d2d4e703            20    10.1937   40.7747    0         2.8832   \n",
       "7116d959            20     5.0968   35.3119    0         2.0387   \n",
       "\n",
       "category                                   \n",
       "name                            timestamp  \n",
       "experiment_id                              \n",
       "3b29d724       2025-08-18T09:18:07.861820  \n",
       "3dc1173c       2025-08-18T09:18:07.679245  \n",
       "37fe313d       2025-08-18T09:18:07.503464  \n",
       "d2d4e703       2025-08-18T09:18:07.328465  \n",
       "7116d959       2025-08-18T09:18:07.145164  "
      ]
     },
     "metadata": {},
     "output_type": "display_data"
    },
    {
     "name": "stdout",
     "output_type": "stream",
     "text": [
      "\n",
      "DataFrame shape: (5, 12)\n",
      "Columns: [('meta', 'name'), ('meta', 'started'), ('meta', 'duration'), ('meta', 'status'), ('meta', 'tags'), ('param', 'angle'), ('param', 'velocity'), ('metric', 'max_height'), ('metric', 'max_range'), ('metric', 'step'), ('metric', 'time_of_flight'), ('metric', 'timestamp')]\n"
     ]
    }
   ],
   "source": [
    "# Get a comparison DataFrame of all projectile experiments\n",
    "comparison_df = yr.compare(name=\"projectile*\")\n",
    "\n",
    "print(\"Experiment Comparison DataFrame:\")\n",
    "display(comparison_df)\n",
    "\n",
    "print(f\"\\nDataFrame shape: {comparison_df.shape}\")\n",
    "print(f\"Columns: {list(comparison_df.columns)}\")"
   ]
  },
  {
   "cell_type": "code",
   "execution_count": 5,
   "metadata": {},
   "outputs": [
    {
     "name": "stdout",
     "output_type": "stream",
     "text": [
      "=== Analysis using pandas operations ===\n",
      "Best range: 63.7m at angle=45°, velocity=25m/s\n",
      "\n",
      "=== Performance by Launch Angle ===\n"
     ]
    },
    {
     "data": {
      "text/html": [
       "<div>\n",
       "<style scoped>\n",
       "    .dataframe tbody tr th:only-of-type {\n",
       "        vertical-align: middle;\n",
       "    }\n",
       "\n",
       "    .dataframe tbody tr th {\n",
       "        vertical-align: top;\n",
       "    }\n",
       "\n",
       "    .dataframe thead tr th {\n",
       "        text-align: left;\n",
       "    }\n",
       "\n",
       "    .dataframe thead tr:last-of-type th {\n",
       "        text-align: right;\n",
       "    }\n",
       "</style>\n",
       "<table border=\"1\" class=\"dataframe\">\n",
       "  <thead>\n",
       "    <tr>\n",
       "      <th>category</th>\n",
       "      <th colspan=\"2\" halign=\"left\">metric</th>\n",
       "    </tr>\n",
       "    <tr>\n",
       "      <th>name</th>\n",
       "      <th>max_range</th>\n",
       "      <th>max_height</th>\n",
       "    </tr>\n",
       "    <tr>\n",
       "      <th>(param, angle)</th>\n",
       "      <th></th>\n",
       "      <th></th>\n",
       "    </tr>\n",
       "  </thead>\n",
       "  <tbody>\n",
       "    <tr>\n",
       "      <th>30</th>\n",
       "      <td>35.3</td>\n",
       "      <td>5.1</td>\n",
       "    </tr>\n",
       "    <tr>\n",
       "      <th>45</th>\n",
       "      <td>42.5</td>\n",
       "      <td>10.6</td>\n",
       "    </tr>\n",
       "    <tr>\n",
       "      <th>60</th>\n",
       "      <td>35.3</td>\n",
       "      <td>15.3</td>\n",
       "    </tr>\n",
       "  </tbody>\n",
       "</table>\n",
       "</div>"
      ],
      "text/plain": [
       "category          metric           \n",
       "name           max_range max_height\n",
       "(param, angle)                     \n",
       "30                  35.3        5.1\n",
       "45                  42.5       10.6\n",
       "60                  35.3       15.3"
      ]
     },
     "metadata": {},
     "output_type": "display_data"
    }
   ],
   "source": [
    "# Analyze the results using pandas operations\n",
    "print(\"=== Analysis using pandas operations ===\")\n",
    "\n",
    "# Find the experiment with maximum range\n",
    "max_range_idx = comparison_df[(\"metric\", \"max_range\")].idxmax()\n",
    "max_range_exp = comparison_df.loc[max_range_idx]\n",
    "print(\n",
    "    f\"Best range: {max_range_exp[('metric', 'max_range')]:.1f}m at angle={max_range_exp[('param', 'angle')]}°, velocity={max_range_exp[('param', 'velocity')]}m/s\"\n",
    ")\n",
    "\n",
    "# Group by angle and show average performance\n",
    "print(\"\\n=== Performance by Launch Angle ===\")\n",
    "angle_summary = comparison_df.groupby((\"param\", \"angle\"))[\n",
    "    [(\"metric\", \"max_range\"), (\"metric\", \"max_height\")]\n",
    "].mean()\n",
    "display(angle_summary.round(1))\n",
    "\n",
    "# # Group by velocity and show average performance\n",
    "# print(\"\\n=== Performance by Velocity ===\")\n",
    "# velocity_summary = comparison_df.groupby(\"velocity\")[[\"max_range\", \"max_height\"]].mean()\n",
    "# print(velocity_summary.round(1))"
   ]
  },
  {
   "cell_type": "markdown",
   "metadata": {},
   "source": [
    "## Clean up\n",
    "\n",
    "Call the next cell to delete the demo experiments."
   ]
  },
  {
   "cell_type": "code",
   "execution_count": 29,
   "metadata": {},
   "outputs": [
    {
     "name": "stdout",
     "output_type": "stream",
     "text": [
      "Deleted 10 experiments\n"
     ]
    }
   ],
   "source": [
    "exp_count = yr.delete_experiments(tags=[\"results-api-demo\"])\n",
    "print(f\"Deleted {exp_count} experiments\")"
   ]
  }
 ],
 "metadata": {
  "kernelspec": {
   "display_name": ".venv",
   "language": "python",
   "name": "python3"
  },
  "language_info": {
   "codemirror_mode": {
    "name": "ipython",
    "version": 3
   },
   "file_extension": ".py",
   "mimetype": "text/x-python",
   "name": "python",
   "nbconvert_exporter": "python",
   "pygments_lexer": "ipython3",
   "version": "3.11.9"
  }
 },
 "nbformat": 4,
 "nbformat_minor": 4
}
