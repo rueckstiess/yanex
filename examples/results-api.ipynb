{
 "cells": [
  {
   "cell_type": "code",
   "execution_count": null,
   "id": "c18cc94e",
   "metadata": {},
   "outputs": [
    {
     "name": "stdout",
     "output_type": "stream",
     "text": [
      "10\n"
     ]
    },
    {
     "data": {
      "text/plain": [
       "[Experiment(id='eedd8fe3', name='staged-test', status='completed'),\n",
       " Experiment(id='a4811aca', name='[unnamed]', status='completed'),\n",
       " Experiment(id='5c7fe763', name='second-sweep-batch_size_64', status='completed'),\n",
       " Experiment(id='fa944a1a', name='staged-test', status='completed'),\n",
       " Experiment(id='18bd35cd', name='second-sweep-batch_size_64', status='completed'),\n",
       " Experiment(id='3a88d928', name='second-sweep-batch_size_32', status='completed'),\n",
       " Experiment(id='f764a7dd', name='second-sweep-batch_size_16', status='completed'),\n",
       " Experiment(id='53a3bb66', name='first-sweep-lr_0p02', status='completed'),\n",
       " Experiment(id='578842c3', name='first-sweep-lr_0p01', status='completed'),\n",
       " Experiment(id='bbaeb197', name='sweep-lr_0p01-batch_size_32-epochs_20', status='completed')]"
      ]
     },
     "execution_count": 21,
     "metadata": {},
     "output_type": "execute_result"
    }
   ],
   "source": [
    "import yanex.results as yr\n",
    "\n",
    "exps = yr.get_experiments(status=[\"completed\"])\n",
    "print(len(exps))\n",
    "exps"
   ]
  }
 ],
 "metadata": {
  "kernelspec": {
   "display_name": ".venv",
   "language": "python",
   "name": "python3"
  },
  "language_info": {
   "codemirror_mode": {
    "name": "ipython",
    "version": 3
   },
   "file_extension": ".py",
   "mimetype": "text/x-python",
   "name": "python",
   "nbconvert_exporter": "python",
   "pygments_lexer": "ipython3",
   "version": "3.11.9"
  }
 },
 "nbformat": 4,
 "nbformat_minor": 5
}
